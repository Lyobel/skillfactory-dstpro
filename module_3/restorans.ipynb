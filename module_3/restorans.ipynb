{
 "cells": [
  {
   "cell_type": "code",
   "execution_count": 1,
   "metadata": {},
   "outputs": [],
   "source": [
    "import os\n",
    "import pandas as pd\n",
    "import numpy as np\n",
    "import re\n",
    "import json\n",
    "import requests\n",
    "import time\n",
    "import seaborn as sns\n",
    "from datetime import datetime\n",
    "from bs4 import BeautifulSoup"
   ]
  },
  {
   "cell_type": "code",
   "execution_count": 2,
   "metadata": {},
   "outputs": [],
   "source": [
    "def outliers_iqr(data):\n",
    "    \"\"\" Функция для поиска выбросов \"\"\"\n",
    "    quartile_1, quartile_3 = np.percentile(data, [25,75])\n",
    "    iqr = quartile_3 - quartile_1\n",
    "    lower_bound = quartile_1 - (iqr * 1.5)\n",
    "    upper_bound = quartile_3 + (iqr * 1.5)\n",
    "    return [lower_bound, upper_bound]"
   ]
  },
  {
   "cell_type": "code",
   "execution_count": 3,
   "metadata": {},
   "outputs": [],
   "source": [
    "df = pd.read_csv('data\\main_task.csv')"
   ]
  },
  {
   "cell_type": "code",
   "execution_count": 4,
   "metadata": {},
   "outputs": [
    {
     "name": "stdout",
     "output_type": "stream",
     "text": [
      "<class 'pandas.core.frame.DataFrame'>\n",
      "RangeIndex: 40000 entries, 0 to 39999\n",
      "Data columns (total 10 columns):\n",
      " #   Column             Non-Null Count  Dtype  \n",
      "---  ------             --------------  -----  \n",
      " 0   Restaurant_id      40000 non-null  object \n",
      " 1   City               40000 non-null  object \n",
      " 2   Cuisine Style      30717 non-null  object \n",
      " 3   Ranking            40000 non-null  float64\n",
      " 4   Rating             40000 non-null  float64\n",
      " 5   Price Range        26114 non-null  object \n",
      " 6   Number of Reviews  37457 non-null  float64\n",
      " 7   Reviews            40000 non-null  object \n",
      " 8   URL_TA             40000 non-null  object \n",
      " 9   ID_TA              40000 non-null  object \n",
      "dtypes: float64(3), object(7)\n",
      "memory usage: 3.1+ MB\n"
     ]
    }
   ],
   "source": [
    "df.info()"
   ]
  },
  {
   "cell_type": "markdown",
   "metadata": {},
   "source": [
    "В датасете только три признака представлены типом float64. Семь признаков типа object. Три признака содержат пропуски."
   ]
  },
  {
   "cell_type": "code",
   "execution_count": 5,
   "metadata": {},
   "outputs": [],
   "source": [
    "#Для удобства работы с датасетом, приведём навзвания колонок к нижнему регистру и заменим пробел на подчеркивание\n",
    "def rename_col(name):\n",
    "    return name.lower().replace(' ', '_')    \n",
    "\n",
    "df.columns = [rename_col(x) for x in df.columns]"
   ]
  },
  {
   "cell_type": "code",
   "execution_count": 6,
   "metadata": {},
   "outputs": [
    {
     "data": {
      "text/plain": [
       "Index(['restaurant_id', 'city', 'cuisine_style', 'ranking', 'rating',\n",
       "       'price_range', 'number_of_reviews', 'reviews', 'url_ta', 'id_ta'],\n",
       "      dtype='object')"
      ]
     },
     "execution_count": 6,
     "metadata": {},
     "output_type": "execute_result"
    }
   ],
   "source": [
    "df.columns"
   ]
  },
  {
   "cell_type": "code",
   "execution_count": 7,
   "metadata": {},
   "outputs": [
    {
     "name": "stdout",
     "output_type": "stream",
     "text": [
      "Всего 64% строк без пропущенных значений\n"
     ]
    }
   ],
   "source": [
    "print('Всего {}% строк без пропущенных значений'.format(round(df.dropna().shape[0] / df.shape[0]*100),1))"
   ]
  },
  {
   "cell_type": "code",
   "execution_count": null,
   "metadata": {},
   "outputs": [],
   "source": []
  },
  {
   "cell_type": "markdown",
   "metadata": {},
   "source": [
    "Так как в датасете есть признаки, где отсутствует значительная часть данных, принято решение дополнить эти данные, а так же получить новые признаки с сайта tripadvisor.com по ссылкам датасета. \n",
    "\n",
    "Задача осложняется тем, что на обработку 40000 страниц уйдёт более 16 часов.\n",
    "\n",
    "Таким образом, надо собрать информацию за один проход.\n",
    "\n",
    "Принято решение загрузить часть raw данных, а далее уже обработать на месте (так как повторно выкачивать - трудоёмко).\n",
    "\n",
    "Данные будут сохранены в отдельный файл\n"
   ]
  },
  {
   "cell_type": "code",
   "execution_count": 8,
   "metadata": {},
   "outputs": [],
   "source": [
    "# Ремарка: учитывая объем получившегося файла (165Мб), возможно стоило на лету выдернуть только нужные на тот момент данные."
   ]
  },
  {
   "cell_type": "markdown",
   "metadata": {},
   "source": [
    "Сформируем слудующую структуру raw данных, которые возьмём с сайта\n",
    "\n",
    "data\n",
    "- rating (рейтинг)\n",
    "- price_range (диапазон цен)\n",
    "- review_date (даты последних отзывов)\n",
    "- review_num (количество отзывов)\n",
    "- data_google (геоданные и доп. информация)\n",
    "- dist_near (расстояние до ближайшего важного объекта. Один из пунктов в data_google, но проще взять готовый с сайта).\n",
    "- all_rest (количество всех ресторанов в городе)"
   ]
  },
  {
   "cell_type": "code",
   "execution_count": 9,
   "metadata": {},
   "outputs": [],
   "source": [
    "url_server = 'https://www.tripadvisor.com'"
   ]
  },
  {
   "cell_type": "code",
   "execution_count": 10,
   "metadata": {},
   "outputs": [],
   "source": [
    "def download_data(url_string):\n",
    "    \"\"\" Функция парсинга данных с сайта https://www.tripadvisor.com \"\"\"\n",
    "    url = url_server + url_string\n",
    "    try:\n",
    "        print(url)\n",
    "        html = requests.get(url)\n",
    "    except:\n",
    "        return None\n",
    "\n",
    "    if html.status_code == 200:\n",
    "        soup = BeautifulSoup (html.text, 'html.parser')\n",
    "        rating = soup.findAll('span', class_='_3KcXyP0F')\n",
    "        price_range = soup.findAll('a', class_='_2mn01bsa')\n",
    "        review_date = soup.findAll('span', class_='ratingDate')    \n",
    "        review_num = soup.findAll('span', class_='_3Wub8auF')\n",
    "        data_google = soup.findAll('div', class_='xAOpeG9l _1KJtHjfU')\n",
    "        dist_near = soup.findAll('span', class_='_2saB_OSe _1OBMr94N')\n",
    "        all_rest = soup.findAll('span', class_='_13OzAOXO _2VxaSjVD')\n",
    "        return {\n",
    "            'rating': str(rating), 'price_range': str(price_range), 'review_date': str(review_date), 'review_num': str(review_num),\n",
    "            'data_google': str(data_google), 'dist_near': str(dist_near), 'all_rest': str(all_rest)\n",
    "               }\n",
    "    else:\n",
    "        return None"
   ]
  },
  {
   "cell_type": "code",
   "execution_count": 11,
   "metadata": {},
   "outputs": [],
   "source": [
    "# Если данные есть на диске, загружаем из файла. Иначе выкачиваем (1 попытка с дропбокса, готовый вариант, 2. Повторный парсинг).\n",
    "# Так как процедура парсинга длительная, добавил флаг. Если не разрешаем повторный парсинг сайта tripadvisor.com, значение - 0, иначе - 1\n",
    "download = 0\n",
    "try:\n",
    "    # Если данные на диске\n",
    "    if os.path.isfile('data/raw_data.json'):\n",
    "        with open('data/raw_data.json', 'r') as f:\n",
    "            raw_data = json.load(f)\n",
    "    else:\n",
    "        # Гит не позволил сразу залить файл размером более 100 мб. Быстрым решением оказалось залить на сторонний ресурс. ToDo: переместить на шару github\n",
    "        # Пробуем с дропбокса\n",
    "        response = requests.get('https://www.dropbox.com/s/1pe5zm2dy3l5fgd/raw_data.json?dl=1')\n",
    "        data = response.text\n",
    "        # Десериализуем\n",
    "        raw_data = json.loads(data)\n",
    "        # Сохраняем, чтобы повторно не выкачивать\n",
    "        with open('data/raw_data.json', 'w') as write_f:\n",
    "            write_f.write(data)\n",
    "        \n",
    "except:\n",
    "    if download:\n",
    "        # Загружаем данные с сайта (dict), где ключём является id_ta\n",
    "        print('Try download data')\n",
    "\n",
    "        # Данные сложим в словарь\n",
    "        raw_data = dict()\n",
    "\n",
    "        # Счетчик обработанных данных\n",
    "        count = 0\n",
    "        for id_ta in df.id_ta:\n",
    "            count += 1\n",
    "            # словарь для \n",
    "            res_dict = dict()\n",
    "            # по текущему id_ta получаем ссылку\n",
    "            url_string = df[df.id_ta == id_ta].url_ta.iloc[0]\n",
    "            # отправляем ссылку для скачивания и парсинга данных\n",
    "            data = download_data(url_string)\n",
    "\n",
    "            # полученные данные фиксируем в словаре raw_data\n",
    "            if data:\n",
    "                res_dict['url_string'] = str(url_string)\n",
    "                res_dict['data'] = data\n",
    "                raw_data[id_ta] = res_dict\n",
    "\n",
    "                # Небольшая перестраховка, сохраняем в файл данные, через каждые 100 записей\n",
    "                if count % 100 == 0:\n",
    "                    print(count)\n",
    "                    with open('data/raw_data.json', 'w') as file:\n",
    "                        json.dump(raw_data, file)\n",
    "            time.sleep(0.5)\n",
    "\n",
    "        with open('data/raw_data.json', 'w') as file:\n",
    "            json.dump(raw_data, file)"
   ]
  },
  {
   "cell_type": "code",
   "execution_count": 12,
   "metadata": {},
   "outputs": [
    {
     "data": {
      "text/plain": [
       "39980"
      ]
     },
     "execution_count": 12,
     "metadata": {},
     "output_type": "execute_result"
    }
   ],
   "source": [
    "len(raw_data)"
   ]
  },
  {
   "cell_type": "code",
   "execution_count": 13,
   "metadata": {},
   "outputs": [],
   "source": [
    "# Настораживает количество < 40000. Рассмотрим признак id_ta."
   ]
  },
  {
   "cell_type": "markdown",
   "metadata": {},
   "source": [
    "### id_ta — идентификатор ресторана в базе данных TripAdvisor."
   ]
  },
  {
   "cell_type": "code",
   "execution_count": 14,
   "metadata": {},
   "outputs": [
    {
     "data": {
      "text/plain": [
       "d11674463    2\n",
       "d987900      2\n",
       "d9802625     2\n",
       "d7337366     2\n",
       "d697406      2\n",
       "            ..\n",
       "d8090662     1\n",
       "d8078237     1\n",
       "d7159753     1\n",
       "d1035708     1\n",
       "d8396725     1\n",
       "Name: id_ta, Length: 39980, dtype: int64"
      ]
     },
     "execution_count": 14,
     "metadata": {},
     "output_type": "execute_result"
    }
   ],
   "source": [
    "df.id_ta.value_counts()"
   ]
  },
  {
   "cell_type": "code",
   "execution_count": 15,
   "metadata": {},
   "outputs": [
    {
     "data": {
      "text/html": [
       "<div>\n",
       "<style scoped>\n",
       "    .dataframe tbody tr th:only-of-type {\n",
       "        vertical-align: middle;\n",
       "    }\n",
       "\n",
       "    .dataframe tbody tr th {\n",
       "        vertical-align: top;\n",
       "    }\n",
       "\n",
       "    .dataframe thead th {\n",
       "        text-align: right;\n",
       "    }\n",
       "</style>\n",
       "<table border=\"1\" class=\"dataframe\">\n",
       "  <thead>\n",
       "    <tr style=\"text-align: right;\">\n",
       "      <th></th>\n",
       "      <th>restaurant_id</th>\n",
       "      <th>city</th>\n",
       "      <th>cuisine_style</th>\n",
       "      <th>ranking</th>\n",
       "      <th>rating</th>\n",
       "      <th>price_range</th>\n",
       "      <th>number_of_reviews</th>\n",
       "      <th>reviews</th>\n",
       "      <th>url_ta</th>\n",
       "      <th>id_ta</th>\n",
       "    </tr>\n",
       "  </thead>\n",
       "  <tbody>\n",
       "    <tr>\n",
       "      <th>13942</th>\n",
       "      <td>id_1103</td>\n",
       "      <td>Madrid</td>\n",
       "      <td>['Spanish']</td>\n",
       "      <td>1104.0</td>\n",
       "      <td>4.5</td>\n",
       "      <td>$$ - $$$</td>\n",
       "      <td>73.0</td>\n",
       "      <td>[['ok for beer, not for dinner'], ['12/20/2017']]</td>\n",
       "      <td>/Restaurant_Review-g187514-d8753348-Reviews-Tr...</td>\n",
       "      <td>d8753348</td>\n",
       "    </tr>\n",
       "    <tr>\n",
       "      <th>31238</th>\n",
       "      <td>id_1212</td>\n",
       "      <td>Madrid</td>\n",
       "      <td>['Spanish']</td>\n",
       "      <td>1213.0</td>\n",
       "      <td>4.5</td>\n",
       "      <td>$$ - $$$</td>\n",
       "      <td>73.0</td>\n",
       "      <td>[['ok for beer, not for dinner'], ['12/20/2017']]</td>\n",
       "      <td>/Restaurant_Review-g187514-d8753348-Reviews-Tr...</td>\n",
       "      <td>d8753348</td>\n",
       "    </tr>\n",
       "  </tbody>\n",
       "</table>\n",
       "</div>"
      ],
      "text/plain": [
       "      restaurant_id    city cuisine_style  ranking  rating price_range  \\\n",
       "13942       id_1103  Madrid   ['Spanish']   1104.0     4.5    $$ - $$$   \n",
       "31238       id_1212  Madrid   ['Spanish']   1213.0     4.5    $$ - $$$   \n",
       "\n",
       "       number_of_reviews                                            reviews  \\\n",
       "13942               73.0  [['ok for beer, not for dinner'], ['12/20/2017']]   \n",
       "31238               73.0  [['ok for beer, not for dinner'], ['12/20/2017']]   \n",
       "\n",
       "                                                  url_ta     id_ta  \n",
       "13942  /Restaurant_Review-g187514-d8753348-Reviews-Tr...  d8753348  \n",
       "31238  /Restaurant_Review-g187514-d8753348-Reviews-Tr...  d8753348  "
      ]
     },
     "execution_count": 15,
     "metadata": {},
     "output_type": "execute_result"
    }
   ],
   "source": [
    "df[df.id_ta == 'd8753348']"
   ]
  },
  {
   "cell_type": "code",
   "execution_count": 16,
   "metadata": {},
   "outputs": [],
   "source": [
    "# Похоже, что есть не значительные ошибки в данных этого признака. Удаляем дубликаты."
   ]
  },
  {
   "cell_type": "code",
   "execution_count": 17,
   "metadata": {},
   "outputs": [],
   "source": [
    "df = df.drop_duplicates(subset = ['id_ta']) "
   ]
  },
  {
   "cell_type": "markdown",
   "metadata": {},
   "source": [
    "#### restaurant_id — идентификационный номер ресторана / сети ресторанов;"
   ]
  },
  {
   "cell_type": "code",
   "execution_count": 18,
   "metadata": {},
   "outputs": [
    {
     "data": {
      "text/plain": [
       "id_227      18\n",
       "id_633      18\n",
       "id_871      18\n",
       "id_436      18\n",
       "id_71       17\n",
       "            ..\n",
       "id_15453     1\n",
       "id_16239     1\n",
       "id_16379     1\n",
       "id_7372      1\n",
       "id_12216     1\n",
       "Name: restaurant_id, Length: 11907, dtype: int64"
      ]
     },
     "execution_count": 18,
     "metadata": {},
     "output_type": "execute_result"
    }
   ],
   "source": [
    "# Посмотрим на значения этого признака\n",
    "df.restaurant_id.value_counts()"
   ]
  },
  {
   "cell_type": "code",
   "execution_count": 19,
   "metadata": {},
   "outputs": [
    {
     "data": {
      "text/html": [
       "<div>\n",
       "<style scoped>\n",
       "    .dataframe tbody tr th:only-of-type {\n",
       "        vertical-align: middle;\n",
       "    }\n",
       "\n",
       "    .dataframe tbody tr th {\n",
       "        vertical-align: top;\n",
       "    }\n",
       "\n",
       "    .dataframe thead th {\n",
       "        text-align: right;\n",
       "    }\n",
       "</style>\n",
       "<table border=\"1\" class=\"dataframe\">\n",
       "  <thead>\n",
       "    <tr style=\"text-align: right;\">\n",
       "      <th></th>\n",
       "      <th>restaurant_id</th>\n",
       "      <th>city</th>\n",
       "      <th>cuisine_style</th>\n",
       "      <th>ranking</th>\n",
       "      <th>rating</th>\n",
       "      <th>price_range</th>\n",
       "      <th>number_of_reviews</th>\n",
       "      <th>reviews</th>\n",
       "      <th>url_ta</th>\n",
       "      <th>id_ta</th>\n",
       "    </tr>\n",
       "  </thead>\n",
       "  <tbody>\n",
       "    <tr>\n",
       "      <th>2955</th>\n",
       "      <td>id_436</td>\n",
       "      <td>Barcelona</td>\n",
       "      <td>['Seafood', 'Mediterranean', 'Spanish', 'Glute...</td>\n",
       "      <td>437.0</td>\n",
       "      <td>4.5</td>\n",
       "      <td>$$ - $$$</td>\n",
       "      <td>546.0</td>\n",
       "      <td>[['Fresh Fish', 'Perfect concept'], ['01/03/20...</td>\n",
       "      <td>/Restaurant_Review-g187497-d1592613-Reviews-La...</td>\n",
       "      <td>d1592613</td>\n",
       "    </tr>\n",
       "    <tr>\n",
       "      <th>4674</th>\n",
       "      <td>id_436</td>\n",
       "      <td>Copenhagen</td>\n",
       "      <td>['European', 'Spanish', 'Mediterranean', 'Vege...</td>\n",
       "      <td>437.0</td>\n",
       "      <td>4.0</td>\n",
       "      <td>$$ - $$$</td>\n",
       "      <td>89.0</td>\n",
       "      <td>[['Lovely restaurant', 'Great atmosphere and g...</td>\n",
       "      <td>/Restaurant_Review-g189541-d8738362-Reviews-To...</td>\n",
       "      <td>d8738362</td>\n",
       "    </tr>\n",
       "    <tr>\n",
       "      <th>6118</th>\n",
       "      <td>id_436</td>\n",
       "      <td>Oporto</td>\n",
       "      <td>['European', 'Portuguese', 'Soups', 'Cafe', 'V...</td>\n",
       "      <td>437.0</td>\n",
       "      <td>4.5</td>\n",
       "      <td>$</td>\n",
       "      <td>71.0</td>\n",
       "      <td>[['Super nice healthy and good', 'Great lunch ...</td>\n",
       "      <td>/Restaurant_Review-g189180-d9463122-Reviews-Ca...</td>\n",
       "      <td>d9463122</td>\n",
       "    </tr>\n",
       "    <tr>\n",
       "      <th>6215</th>\n",
       "      <td>id_436</td>\n",
       "      <td>Budapest</td>\n",
       "      <td>['American', 'Vegetarian Friendly', 'Vegan Opt...</td>\n",
       "      <td>437.0</td>\n",
       "      <td>4.5</td>\n",
       "      <td>$</td>\n",
       "      <td>68.0</td>\n",
       "      <td>[['Excellent', 'Best burger ever!'], ['12/05/2...</td>\n",
       "      <td>/Restaurant_Review-g274887-d10438365-Reviews-B...</td>\n",
       "      <td>d10438365</td>\n",
       "    </tr>\n",
       "    <tr>\n",
       "      <th>7377</th>\n",
       "      <td>id_436</td>\n",
       "      <td>Luxembourg</td>\n",
       "      <td>['Asian']</td>\n",
       "      <td>437.0</td>\n",
       "      <td>4.5</td>\n",
       "      <td>NaN</td>\n",
       "      <td>2.0</td>\n",
       "      <td>[['ZEN'], ['06/11/2016']]</td>\n",
       "      <td>/Restaurant_Review-g190356-d743888-Reviews-Zen...</td>\n",
       "      <td>d743888</td>\n",
       "    </tr>\n",
       "  </tbody>\n",
       "</table>\n",
       "</div>"
      ],
      "text/plain": [
       "     restaurant_id        city  \\\n",
       "2955        id_436   Barcelona   \n",
       "4674        id_436  Copenhagen   \n",
       "6118        id_436      Oporto   \n",
       "6215        id_436    Budapest   \n",
       "7377        id_436  Luxembourg   \n",
       "\n",
       "                                          cuisine_style  ranking  rating  \\\n",
       "2955  ['Seafood', 'Mediterranean', 'Spanish', 'Glute...    437.0     4.5   \n",
       "4674  ['European', 'Spanish', 'Mediterranean', 'Vege...    437.0     4.0   \n",
       "6118  ['European', 'Portuguese', 'Soups', 'Cafe', 'V...    437.0     4.5   \n",
       "6215  ['American', 'Vegetarian Friendly', 'Vegan Opt...    437.0     4.5   \n",
       "7377                                          ['Asian']    437.0     4.5   \n",
       "\n",
       "     price_range  number_of_reviews  \\\n",
       "2955    $$ - $$$              546.0   \n",
       "4674    $$ - $$$               89.0   \n",
       "6118           $               71.0   \n",
       "6215           $               68.0   \n",
       "7377         NaN                2.0   \n",
       "\n",
       "                                                reviews  \\\n",
       "2955  [['Fresh Fish', 'Perfect concept'], ['01/03/20...   \n",
       "4674  [['Lovely restaurant', 'Great atmosphere and g...   \n",
       "6118  [['Super nice healthy and good', 'Great lunch ...   \n",
       "6215  [['Excellent', 'Best burger ever!'], ['12/05/2...   \n",
       "7377                          [['ZEN'], ['06/11/2016']]   \n",
       "\n",
       "                                                 url_ta      id_ta  \n",
       "2955  /Restaurant_Review-g187497-d1592613-Reviews-La...   d1592613  \n",
       "4674  /Restaurant_Review-g189541-d8738362-Reviews-To...   d8738362  \n",
       "6118  /Restaurant_Review-g189180-d9463122-Reviews-Ca...   d9463122  \n",
       "6215  /Restaurant_Review-g274887-d10438365-Reviews-B...  d10438365  \n",
       "7377  /Restaurant_Review-g190356-d743888-Reviews-Zen...    d743888  "
      ]
     },
     "execution_count": 19,
     "metadata": {},
     "output_type": "execute_result"
    }
   ],
   "source": [
    "df[df.restaurant_id == 'id_436'].head(5)"
   ]
  },
  {
   "cell_type": "markdown",
   "metadata": {},
   "source": [
    "Рестораны одной сети имеют одинакоый restaurant_id, но разный id_ta"
   ]
  },
  {
   "cell_type": "markdown",
   "metadata": {},
   "source": [
    "Можно сформировать новый признак - количество ресторанов одной сети.\n",
    "Есть вероятность, что сетевые рестораны более известные и могут пользоваться большей популярностью.\n",
    "\n",
    "Но попытки выделить этот признак лишь ухудшали результат."
   ]
  },
  {
   "cell_type": "code",
   "execution_count": 20,
   "metadata": {},
   "outputs": [],
   "source": [
    "# counts_rest = dict(df.restaurant_id.value_counts())\n",
    "# df['network'] = df.restaurant_id.apply(lambda x: counts_rest[x])\n",
    "\n",
    "# Как вариант, группировка\n",
    "# df['network'] = df['network'].apply(lambda x: 0 if x<6 else 1 if x<12 else 2)"
   ]
  },
  {
   "cell_type": "markdown",
   "metadata": {},
   "source": [
    "#### city — город, в котором находится ресторан;"
   ]
  },
  {
   "cell_type": "code",
   "execution_count": 21,
   "metadata": {},
   "outputs": [
    {
     "data": {
      "text/plain": [
       "London        5757\n",
       "Paris         4897\n",
       "Madrid        3088\n",
       "Barcelona     2734\n",
       "Berlin        2155\n",
       "Milan         2133\n",
       "Rome          2078\n",
       "Prague        1443\n",
       "Lisbon        1300\n",
       "Vienna        1166\n",
       "Amsterdam     1086\n",
       "Brussels      1060\n",
       "Hamburg        949\n",
       "Munich         893\n",
       "Lyon           892\n",
       "Stockholm      820\n",
       "Budapest       816\n",
       "Warsaw         727\n",
       "Dublin         673\n",
       "Copenhagen     659\n",
       "Athens         628\n",
       "Edinburgh      596\n",
       "Zurich         538\n",
       "Oporto         513\n",
       "Geneva         481\n",
       "Krakow         443\n",
       "Oslo           385\n",
       "Helsinki       376\n",
       "Bratislava     301\n",
       "Luxembourg     210\n",
       "Ljubljana      183\n",
       "Name: city, dtype: int64"
      ]
     },
     "execution_count": 21,
     "metadata": {},
     "output_type": "execute_result"
    }
   ],
   "source": [
    "df.city.value_counts()"
   ]
  },
  {
   "cell_type": "code",
   "execution_count": 22,
   "metadata": {},
   "outputs": [
    {
     "data": {
      "text/plain": [
       "31"
      ]
     },
     "execution_count": 22,
     "metadata": {},
     "output_type": "execute_result"
    }
   ],
   "source": [
    "len(df.city.value_counts())"
   ]
  },
  {
   "cell_type": "code",
   "execution_count": 23,
   "metadata": {},
   "outputs": [],
   "source": [
    "# 31 город представлены в данном датасете"
   ]
  },
  {
   "cell_type": "markdown",
   "metadata": {},
   "source": [
    "Добавим новые признаки - страны и население"
   ]
  },
  {
   "cell_type": "code",
   "execution_count": 24,
   "metadata": {},
   "outputs": [],
   "source": [
    "# Загружаем данные (страны) по нужным городам. Eсли файл отсутствует, формируем данные из интернета.\n",
    "# Ремарка. При поиске, попались несколько готовых датасетов, но их очистка занимает больше времени, чем парсинг\n",
    "try:\n",
    "    # Файл, сформированый кодом ниже. Если он отсутствует, то сайт парсится снова\n",
    "    with open('data/cities.csv', 'r') as f:\n",
    "        cities = json.load(f)\n",
    "except:\n",
    "    # Залить данные с сервиса geonames.org\n",
    "    cities = dict()\n",
    "    # Шаблон для парсинга данных в поиске страны\n",
    "    countries_tmpl = re.compile('countries\\/([\\w|-]+)\\/([\\w-]+).html\\\"\\>([\\w\\s\\-]+)\\<\\/a\\>')\n",
    "    # Шаблон для парсинга данных в поиске населения\n",
    "    population_tmpl = re.compile('population\\s([\\d\\,]+)<\\/small\\>')\n",
    "    # Выбираем нужные города из нашего датасета\n",
    "    cities_from_df = [city for city in df.city.unique()]\n",
    "    \n",
    "    for city in cities_from_df:\n",
    "        url = 'https://www.geonames.org/search.html?q={}&country='.format(city)\n",
    "        try:\n",
    "            html = requests.get(url)\n",
    "            country = None\n",
    "            population = None\n",
    "            # Если ответ успешный, парсим данные\n",
    "            if html.status_code == 200:\n",
    "                soup = BeautifulSoup (html.text, 'html.parser')\n",
    "                # Парсим таблицу с результатом, выбираем первое совпадение (наиболее релевантное)\n",
    "                match = re.search(countries_tmpl, str(soup.findAll('table', {\"class\": \"restable\"})))\n",
    "                if match:\n",
    "                    # Сохраняем в формате ('GB', 'united-kingdom', 'United Kingdom')\n",
    "                    country = match.groups()\n",
    "                    \n",
    "                    # Определяем население\n",
    "                    match = re.search(population_tmpl, str(soup.findAll('table', {\"class\": \"restable\"})))\n",
    "                    if match:\n",
    "                        population = int(match.group(1).replace(',', ''))\n",
    "                \n",
    "                    # Итоговые данные заносим в словарь\n",
    "                cities[city] = {'country': country, 'population': population}\n",
    "        except:\n",
    "            print('Error')\n",
    "        \n",
    "        # Чтобы не досить сервер, делаем маленькую паузу\n",
    "        time.sleep(0.5)\n",
    "\n",
    "    # Результат сохраняем, чтобы не дёргать ресурс повторно\n",
    "    try:\n",
    "        with open('data\\cities.csv', 'w') as write_f:\n",
    "            json.dump(cities, write_f)\n",
    "    except:\n",
    "        print('Error writing to file')"
   ]
  },
  {
   "cell_type": "code",
   "execution_count": 25,
   "metadata": {},
   "outputs": [],
   "source": [
    "# Формируем новый признак - страны\n",
    "def get_country(city):\n",
    "    \"\"\" Функция принимает на вход город, возвращает страну \"\"\"\n",
    "    if city in cities:\n",
    "        return cities[city]['country'][2]\n",
    "    else:\n",
    "        return None\n",
    "        \n",
    "df['country'] = df.city.apply(get_country)\n"
   ]
  },
  {
   "cell_type": "code",
   "execution_count": 26,
   "metadata": {},
   "outputs": [],
   "source": [
    "# Формируем новый признак - население\n",
    "def get_population(city):\n",
    "    \"\"\" Функция принимает на вход город, возвращает количество проживающих человек \"\"\"\n",
    "    if city in cities:\n",
    "        return cities[city]['population']\n",
    "    else:\n",
    "        return None\n",
    "        \n",
    "df['population'] = df.city.apply(get_population)"
   ]
  },
  {
   "cell_type": "code",
   "execution_count": 27,
   "metadata": {},
   "outputs": [],
   "source": [
    "# Формируем новый признак capital (0 - нет, 1 - да)\n",
    "capitals = dict()\n",
    "with open('data\\concap.csv', 'r') as cap_f:\n",
    "    for line in cap_f.readlines():\n",
    "        data_cap = line.split(',')\n",
    "        # Город: Страна\n",
    "        capitals[data_cap[1]] = data_cap[0]"
   ]
  },
  {
   "cell_type": "code",
   "execution_count": 28,
   "metadata": {},
   "outputs": [],
   "source": [
    "df['capital'] = df.city.apply(lambda x: 1 if x in capitals else 0)"
   ]
  },
  {
   "cell_type": "code",
   "execution_count": 29,
   "metadata": {},
   "outputs": [
    {
     "data": {
      "text/plain": [
       "1    29808\n",
       "0    10172\n",
       "Name: capital, dtype: int64"
      ]
     },
     "execution_count": 29,
     "metadata": {},
     "output_type": "execute_result"
    }
   ],
   "source": [
    "df['capital'].value_counts()"
   ]
  },
  {
   "cell_type": "code",
   "execution_count": 30,
   "metadata": {},
   "outputs": [],
   "source": [
    "# Сами города позже преобразуем в dummy переменные"
   ]
  },
  {
   "cell_type": "markdown",
   "metadata": {},
   "source": [
    "#### cuisine_style — кухня или кухни, к которым можно отнести блюда, предлагаемые в ресторане;"
   ]
  },
  {
   "cell_type": "code",
   "execution_count": 31,
   "metadata": {},
   "outputs": [
    {
     "name": "stdout",
     "output_type": "stream",
     "text": [
      "Всего 77% строк без пропущенных значений\n"
     ]
    }
   ],
   "source": [
    "print('Всего {}% строк без пропущенных значений'.format(round(df.cuisine_style.dropna().shape[0] / df.cuisine_style.shape[0]*100),1))"
   ]
  },
  {
   "cell_type": "code",
   "execution_count": 32,
   "metadata": {},
   "outputs": [],
   "source": [
    "# Дополняем данные (с сайта)"
   ]
  },
  {
   "cell_type": "code",
   "execution_count": 33,
   "metadata": {},
   "outputs": [],
   "source": [
    "rest_tmpl = re.compile('html\\W{2}(\\w+)')"
   ]
  },
  {
   "cell_type": "code",
   "execution_count": 34,
   "metadata": {},
   "outputs": [],
   "source": [
    "def update_cuisines(id_ta):\n",
    "    \"\"\" Функция парсинга списка кухонь с сайта (закаченных ранее) \"\"\"\n",
    "    if id_ta in raw_data:\n",
    "        match = re.findall(rest_tmpl, raw_data[id_ta]['data']['price_range'])\n",
    "        if len(match) > 0:\n",
    "            return(str(match))\n",
    "    # Возвращаем Other, если и на сайте не указанно данных\n",
    "    return str(['Other'])"
   ]
  },
  {
   "cell_type": "code",
   "execution_count": 35,
   "metadata": {},
   "outputs": [],
   "source": [
    "# Обновить NaN из полученных данных\n",
    "df['cuisine_style'] = df.apply(lambda x: update_cuisines(x['id_ta']) if pd.isnull(x['cuisine_style']) else x['cuisine_style'], 1)"
   ]
  },
  {
   "cell_type": "code",
   "execution_count": 36,
   "metadata": {},
   "outputs": [
    {
     "name": "stdout",
     "output_type": "stream",
     "text": [
      "<class 'pandas.core.frame.DataFrame'>\n",
      "Int64Index: 39980 entries, 0 to 39999\n",
      "Data columns (total 13 columns):\n",
      " #   Column             Non-Null Count  Dtype  \n",
      "---  ------             --------------  -----  \n",
      " 0   restaurant_id      39980 non-null  object \n",
      " 1   city               39980 non-null  object \n",
      " 2   cuisine_style      39980 non-null  object \n",
      " 3   ranking            39980 non-null  float64\n",
      " 4   rating             39980 non-null  float64\n",
      " 5   price_range        26101 non-null  object \n",
      " 6   number_of_reviews  37437 non-null  float64\n",
      " 7   reviews            39980 non-null  object \n",
      " 8   url_ta             39980 non-null  object \n",
      " 9   id_ta              39980 non-null  object \n",
      " 10  country            39980 non-null  object \n",
      " 11  population         39980 non-null  int64  \n",
      " 12  capital            39980 non-null  int64  \n",
      "dtypes: float64(3), int64(2), object(8)\n",
      "memory usage: 4.3+ MB\n"
     ]
    }
   ],
   "source": [
    "df.info()"
   ]
  },
  {
   "cell_type": "markdown",
   "metadata": {},
   "source": [
    "Конвертируем перечень в список, для удобства работы"
   ]
  },
  {
   "cell_type": "code",
   "execution_count": 37,
   "metadata": {},
   "outputs": [],
   "source": [
    "def cuisines_to_list(cusines_s):\n",
    "    \"\"\" Конвертирует str в список cusines\"\"\"\n",
    "    return [cuisine.strip()[1:-1] for cuisine in cusines_s[1:-1].split(',')]"
   ]
  },
  {
   "cell_type": "code",
   "execution_count": 38,
   "metadata": {},
   "outputs": [],
   "source": [
    "# Заменяем кухни на список для удобства обработки\n",
    "df['cuisine_list'] = df['cuisine_style'].dropna().apply(cuisines_to_list)"
   ]
  },
  {
   "cell_type": "code",
   "execution_count": 39,
   "metadata": {},
   "outputs": [
    {
     "data": {
      "text/plain": [
       "160"
      ]
     },
     "execution_count": 39,
     "metadata": {},
     "output_type": "execute_result"
    }
   ],
   "source": [
    "# Узнаем, какое количество представлено в датасете\n",
    "# С учётом обновленных данных, список подрос (был 126)\n",
    "cuisines_set = set()\n",
    "for cuisines in df['cuisine_list'].dropna():\n",
    "    for cuisine in cuisines:\n",
    "        cuisines_set.add(cuisine)\n",
    "len(cuisines_set)"
   ]
  },
  {
   "cell_type": "markdown",
   "metadata": {},
   "source": [
    "Посмотрим, какая кухня представлена в наибольшем количестве ресторанов"
   ]
  },
  {
   "cell_type": "code",
   "execution_count": 40,
   "metadata": {},
   "outputs": [
    {
     "name": "stdout",
     "output_type": "stream",
     "text": [
      "Vegetarian Friendly\n"
     ]
    }
   ],
   "source": [
    "# Словарь для подсчета ресторанов используемых кухонь\n",
    "cuisines_dict = {x: 0 for x in cuisines_set}\n",
    "\n",
    "for cuisines in df['cuisine_list'].dropna():\n",
    "    for cuisine in cuisines:\n",
    "        cuisines_dict[cuisine] += 1\n",
    "\n",
    "print(max(cuisines_dict, key=lambda k: cuisines_dict[k]))"
   ]
  },
  {
   "cell_type": "code",
   "execution_count": 41,
   "metadata": {},
   "outputs": [],
   "source": [
    "# Сформируем новый признак - количество кухонь, предлагаемых в ресторане\n",
    "df['cuisine_num'] = df['cuisine_list'].apply(lambda x: len(x))"
   ]
  },
  {
   "cell_type": "code",
   "execution_count": 42,
   "metadata": {},
   "outputs": [
    {
     "data": {
      "text/plain": [
       "restaurant_id        False\n",
       "city                 False\n",
       "cuisine_style        False\n",
       "ranking              False\n",
       "rating               False\n",
       "price_range           True\n",
       "number_of_reviews     True\n",
       "reviews              False\n",
       "url_ta               False\n",
       "id_ta                False\n",
       "country              False\n",
       "population           False\n",
       "capital              False\n",
       "cuisine_list         False\n",
       "cuisine_num          False\n",
       "dtype: bool"
      ]
     },
     "execution_count": 42,
     "metadata": {},
     "output_type": "execute_result"
    }
   ],
   "source": [
    "# Как и предпологалось, cuisine_style, cuisine_list и cuisine_num не содержат пропусков\n",
    "df.isnull().any()"
   ]
  },
  {
   "cell_type": "code",
   "execution_count": 43,
   "metadata": {},
   "outputs": [
    {
     "data": {
      "text/plain": [
       "<AxesSubplot:>"
      ]
     },
     "execution_count": 43,
     "metadata": {},
     "output_type": "execute_result"
    },
    {
     "data": {
      "image/png": "[encoded data removed]",
      "text/plain": [
       "<Figure size 432x288 with 1 Axes>"
      ]
     },
     "metadata": {
      "needs_background": "light"
     },
     "output_type": "display_data"
    }
   ],
   "source": [
    "# Для нас важен признак cuisine_num, так как будет учавствовать в прогнозе\n",
    "df.cuisine_num.hist()"
   ]
  },
  {
   "cell_type": "code",
   "execution_count": 44,
   "metadata": {},
   "outputs": [
    {
     "data": {
      "text/plain": [
       "2.733166583291646"
      ]
     },
     "execution_count": 44,
     "metadata": {},
     "output_type": "execute_result"
    }
   ],
   "source": [
    "df.cuisine_num.mean()"
   ]
  },
  {
   "cell_type": "code",
   "execution_count": 45,
   "metadata": {},
   "outputs": [],
   "source": [
    "# Похоже есть выбросы. Чаще, на ресторан приходится около 3 видов кухонь"
   ]
  },
  {
   "cell_type": "code",
   "execution_count": 46,
   "metadata": {},
   "outputs": [
    {
     "data": {
      "text/plain": [
       "<AxesSubplot:xlabel='cuisine_num'>"
      ]
     },
     "execution_count": 46,
     "metadata": {},
     "output_type": "execute_result"
    },
    {
     "data": {
      "image/png": "[encoded data removed]",
      "text/plain": [
       "<Figure size 432x288 with 1 Axes>"
      ]
     },
     "metadata": {
      "needs_background": "light"
     },
     "output_type": "display_data"
    }
   ],
   "source": [
    "sns.boxplot(df.cuisine_num)"
   ]
  },
  {
   "cell_type": "code",
   "execution_count": 47,
   "metadata": {},
   "outputs": [],
   "source": [
    "# Попытка убрать выбросы ухудшила прогноз \n",
    "# df = df[df.cuisine_num < outliers_iqr(df.cuisine_num)[1]]\n",
    "# df.cuisine_num.hist(bins=30)"
   ]
  },
  {
   "cell_type": "markdown",
   "metadata": {},
   "source": [
    "#### ranking — место, которое занимает данный ресторан среди всех ресторанов своего города;"
   ]
  },
  {
   "cell_type": "code",
   "execution_count": 48,
   "metadata": {},
   "outputs": [],
   "source": [
    "# ranking не содержит пропусков"
   ]
  },
  {
   "cell_type": "code",
   "execution_count": 49,
   "metadata": {},
   "outputs": [
    {
     "data": {
      "text/plain": [
       "<AxesSubplot:>"
      ]
     },
     "execution_count": 49,
     "metadata": {},
     "output_type": "execute_result"
    },
    {
     "data": {
      "image/png": "[encoded data removed]",
      "text/plain": [
       "<Figure size 432x288 with 1 Axes>"
      ]
     },
     "metadata": {
      "needs_background": "light"
     },
     "output_type": "display_data"
    }
   ],
   "source": [
    "df.ranking.hist(bins=100)"
   ]
  },
  {
   "cell_type": "code",
   "execution_count": 50,
   "metadata": {},
   "outputs": [],
   "source": [
    "# Очень популярная оценка до 2000-2500"
   ]
  },
  {
   "cell_type": "code",
   "execution_count": 51,
   "metadata": {},
   "outputs": [
    {
     "data": {
      "text/plain": [
       "<AxesSubplot:xlabel='ranking'>"
      ]
     },
     "execution_count": 51,
     "metadata": {},
     "output_type": "execute_result"
    },
    {
     "data": {
      "image/png": "[encoded data removed]",
      "text/plain": [
       "<Figure size 432x288 with 1 Axes>"
      ]
     },
     "metadata": {
      "needs_background": "light"
     },
     "output_type": "display_data"
    }
   ],
   "source": [
    "sns.boxplot(df.ranking)"
   ]
  },
  {
   "cell_type": "code",
   "execution_count": 52,
   "metadata": {},
   "outputs": [],
   "source": [
    "# По данному признаку однозначного решения пока принять нельзя. Его модификация сильно влияет на прогноз (пока что, в сторону ухудшения)"
   ]
  },
  {
   "cell_type": "markdown",
   "metadata": {},
   "source": [
    "#### rating — рейтинг ресторана по данным TripAdvisor (именно это значение должна будет предсказывать модель);"
   ]
  },
  {
   "cell_type": "code",
   "execution_count": 53,
   "metadata": {},
   "outputs": [],
   "source": [
    "# Целевая переменная"
   ]
  },
  {
   "cell_type": "code",
   "execution_count": 54,
   "metadata": {},
   "outputs": [
    {
     "data": {
      "text/plain": [
       "4.0    13684\n",
       "4.5    10924\n",
       "3.5     6821\n",
       "5.0     3875\n",
       "3.0     2955\n",
       "2.5      915\n",
       "2.0      466\n",
       "1.0      201\n",
       "1.5      139\n",
       "Name: rating, dtype: int64"
      ]
     },
     "execution_count": 54,
     "metadata": {},
     "output_type": "execute_result"
    }
   ],
   "source": [
    "# Основная часть оценок 4 - 4.5\n",
    "df.rating.value_counts()"
   ]
  },
  {
   "cell_type": "code",
   "execution_count": 55,
   "metadata": {},
   "outputs": [
    {
     "data": {
      "text/plain": [
       "<AxesSubplot:>"
      ]
     },
     "execution_count": 55,
     "metadata": {},
     "output_type": "execute_result"
    },
    {
     "data": {
      "image/png": "[encoded data removed]",
      "text/plain": [
       "<Figure size 432x288 with 1 Axes>"
      ]
     },
     "metadata": {
      "needs_background": "light"
     },
     "output_type": "display_data"
    }
   ],
   "source": [
    "df.rating.hist(bins=20)"
   ]
  },
  {
   "cell_type": "code",
   "execution_count": 56,
   "metadata": {},
   "outputs": [],
   "source": [
    "# Самый популярный рейтинг 4 и 4,5"
   ]
  },
  {
   "cell_type": "markdown",
   "metadata": {},
   "source": [
    "#### price_range — диапазон цен в ресторане;"
   ]
  },
  {
   "cell_type": "code",
   "execution_count": 57,
   "metadata": {},
   "outputs": [
    {
     "data": {
      "text/plain": [
       "$$ - $$$    18402\n",
       "NaN         13879\n",
       "$            6276\n",
       "$$$$         1423\n",
       "Name: price_range, dtype: int64"
      ]
     },
     "execution_count": 57,
     "metadata": {},
     "output_type": "execute_result"
    }
   ],
   "source": [
    "df['price_range'].value_counts(dropna=False)"
   ]
  },
  {
   "cell_type": "code",
   "execution_count": 58,
   "metadata": {},
   "outputs": [
    {
     "name": "stdout",
     "output_type": "stream",
     "text": [
      "Всего 65% строк без пропущенных значений\n"
     ]
    }
   ],
   "source": [
    "print('Всего {}% строк без пропущенных значений'.format(round(df.price_range.dropna().shape[0] / df.price_range.shape[0]*100),1))"
   ]
  },
  {
   "cell_type": "code",
   "execution_count": 59,
   "metadata": {},
   "outputs": [],
   "source": [
    "# Очень много пропусков. Заплоняем их данными с сайта"
   ]
  },
  {
   "cell_type": "code",
   "execution_count": 60,
   "metadata": {},
   "outputs": [],
   "source": [
    "# Шаблон для парсинга данных о диапазоне цен\n",
    "price_range_tmpl = re.compile('html\\\"\\>([$|\\s|-]*)\\<\\/a\\>')"
   ]
  },
  {
   "cell_type": "code",
   "execution_count": 61,
   "metadata": {},
   "outputs": [],
   "source": [
    "def update_price_range(id_ta):\n",
    "    \"\"\" Функция возвращает диапазон цен (из парсинга данных сайта) \"\"\"\n",
    "    if id_ta in raw_data:\n",
    "        match = re.search(price_range_tmpl, raw_data[id_ta]['data']['price_range'])\n",
    "        if match:\n",
    "            return match.group(1)\n",
    "    return None"
   ]
  },
  {
   "cell_type": "code",
   "execution_count": 62,
   "metadata": {},
   "outputs": [],
   "source": [
    "# Обновить полностью price range\n",
    "#df['price_range_upd'] = df.apply(lambda x: update_price_range(x['ID_TA']), 1)"
   ]
  },
  {
   "cell_type": "code",
   "execution_count": 63,
   "metadata": {},
   "outputs": [],
   "source": [
    "# Обновить только не достающие значения\n",
    "df['price_range'] = df.apply(lambda x: update_price_range(x['id_ta']) if pd.isnull(x['price_range']) else x['price_range'], 1)"
   ]
  },
  {
   "cell_type": "code",
   "execution_count": 64,
   "metadata": {},
   "outputs": [],
   "source": [
    "# Данный признак можно привести к числовому виду, для использования в прогнозе\n",
    "price_dict = {\n",
    "    '$': 0,\n",
    "    '$$ - $$$': 1,\n",
    "    '$$$$': 2\n",
    "}\n",
    "df['price_range_upd']= df['price_range'].replace(to_replace=price_dict)\n"
   ]
  },
  {
   "cell_type": "code",
   "execution_count": 65,
   "metadata": {},
   "outputs": [
    {
     "data": {
      "text/plain": [
       "1.0    22022\n",
       "0.0     8958\n",
       "NaN     7453\n",
       "2.0     1547\n",
       "Name: price_range_upd, dtype: int64"
      ]
     },
     "execution_count": 65,
     "metadata": {},
     "output_type": "execute_result"
    }
   ],
   "source": [
    "df.price_range_upd.value_counts(dropna=False)"
   ]
  },
  {
   "cell_type": "code",
   "execution_count": 66,
   "metadata": {},
   "outputs": [
    {
     "name": "stdout",
     "output_type": "stream",
     "text": [
      "Всего 81% строк без пропущенных значений\n"
     ]
    }
   ],
   "source": [
    "print('Всего {}% строк без пропущенных значений'.format(round(df.price_range.dropna().shape[0] / df.price_range.shape[0]*100),1))"
   ]
  },
  {
   "cell_type": "code",
   "execution_count": 67,
   "metadata": {},
   "outputs": [],
   "source": [
    "# Пропусков заметно меньше, но всё равно они есть. Попробуем заполнить наиболее популярным значением - 1 ($$ - $$$) , то есть медиана"
   ]
  },
  {
   "cell_type": "code",
   "execution_count": 68,
   "metadata": {},
   "outputs": [],
   "source": [
    "df['price_range_upd'] = df['price_range_upd'].fillna(1)"
   ]
  },
  {
   "cell_type": "code",
   "execution_count": 69,
   "metadata": {},
   "outputs": [
    {
     "data": {
      "text/plain": [
       "<AxesSubplot:>"
      ]
     },
     "execution_count": 69,
     "metadata": {},
     "output_type": "execute_result"
    },
    {
     "data": {
      "image/png": "[encoded data removed]",
      "text/plain": [
       "<Figure size 432x288 with 1 Axes>"
      ]
     },
     "metadata": {
      "needs_background": "light"
     },
     "output_type": "display_data"
    }
   ],
   "source": [
    "df.price_range_upd.hist()"
   ]
  },
  {
   "cell_type": "markdown",
   "metadata": {},
   "source": [
    "### number_of_reviews — количество отзывов о ресторане;"
   ]
  },
  {
   "cell_type": "code",
   "execution_count": 70,
   "metadata": {},
   "outputs": [
    {
     "data": {
      "text/plain": [
       "NaN       2543\n",
       "2.0       1915\n",
       "3.0       1636\n",
       "4.0       1370\n",
       "5.0       1181\n",
       "          ... \n",
       "2123.0       1\n",
       "1633.0       1\n",
       "1480.0       1\n",
       "1924.0       1\n",
       "1383.0       1\n",
       "Name: number_of_reviews, Length: 1460, dtype: int64"
      ]
     },
     "execution_count": 70,
     "metadata": {},
     "output_type": "execute_result"
    }
   ],
   "source": [
    "df.number_of_reviews.value_counts(dropna=False)"
   ]
  },
  {
   "cell_type": "code",
   "execution_count": 71,
   "metadata": {},
   "outputs": [
    {
     "name": "stdout",
     "output_type": "stream",
     "text": [
      "Всего 94% строк без пропущенных значений\n"
     ]
    }
   ],
   "source": [
    "print('Всего {}% строк без пропущенных значений'.format(round(df.number_of_reviews.dropna().shape[0] / df.number_of_reviews.shape[0]*100),1))"
   ]
  },
  {
   "cell_type": "code",
   "execution_count": 72,
   "metadata": {},
   "outputs": [],
   "source": [
    "# Попробуем обновить все данные свежими значениями."
   ]
  },
  {
   "cell_type": "code",
   "execution_count": 73,
   "metadata": {},
   "outputs": [],
   "source": [
    "review_num_tmpl = re.compile('>(\\d+)<')"
   ]
  },
  {
   "cell_type": "code",
   "execution_count": 74,
   "metadata": {},
   "outputs": [],
   "source": [
    "def update_reviews_num(id_ta):\n",
    "    \"\"\" Возвращает количество отзывов с сайта \"\"\"\n",
    "    if id_ta in raw_data:\n",
    "        match = re.search(review_num_tmpl, raw_data[id_ta]['data']['review_num'])\n",
    "        if match:\n",
    "            return int(match.group(1))\n",
    "    # Если на сайте нет данных заполняем из датасета\n",
    "    return df[df.id_ta == id_ta]['number_of_reviews'].iloc[0]"
   ]
  },
  {
   "cell_type": "code",
   "execution_count": 75,
   "metadata": {},
   "outputs": [],
   "source": [
    "df['reviews_num_upd'] = df.apply(lambda x: update_reviews_num(x['id_ta']), 1)"
   ]
  },
  {
   "cell_type": "code",
   "execution_count": 76,
   "metadata": {},
   "outputs": [
    {
     "data": {
      "text/plain": [
       "True"
      ]
     },
     "execution_count": 76,
     "metadata": {},
     "output_type": "execute_result"
    }
   ],
   "source": [
    "df.reviews_num_upd.isna().any()"
   ]
  },
  {
   "cell_type": "code",
   "execution_count": 77,
   "metadata": {},
   "outputs": [],
   "source": [
    "# Пропуски всё ещё есть. Если данных по отзывам нет, то скорее всего - молодые рестораны. Заменим пустые значения на 0"
   ]
  },
  {
   "cell_type": "code",
   "execution_count": 78,
   "metadata": {},
   "outputs": [],
   "source": [
    "df.reviews_num_upd = df.reviews_num_upd.fillna(0)"
   ]
  },
  {
   "cell_type": "code",
   "execution_count": null,
   "metadata": {},
   "outputs": [],
   "source": []
  },
  {
   "cell_type": "code",
   "execution_count": 79,
   "metadata": {},
   "outputs": [
    {
     "data": {
      "text/plain": [
       "<AxesSubplot:>"
      ]
     },
     "execution_count": 79,
     "metadata": {},
     "output_type": "execute_result"
    },
    {
     "data": {
      "image/png": "[encoded data removed]",
      "text/plain": [
       "<Figure size 432x288 with 1 Axes>"
      ]
     },
     "metadata": {
      "needs_background": "light"
     },
     "output_type": "display_data"
    }
   ],
   "source": [
    "df.reviews_num_upd.hist(bins=100)"
   ]
  },
  {
   "cell_type": "code",
   "execution_count": 80,
   "metadata": {},
   "outputs": [
    {
     "data": {
      "text/plain": [
       "<AxesSubplot:xlabel='reviews_num_upd'>"
      ]
     },
     "execution_count": 80,
     "metadata": {},
     "output_type": "execute_result"
    },
    {
     "data": {
      "image/png": "[encoded data removed]",
      "text/plain": [
       "<Figure size 432x288 with 1 Axes>"
      ]
     },
     "metadata": {
      "needs_background": "light"
     },
     "output_type": "display_data"
    }
   ],
   "source": [
    "sns.boxplot(df.reviews_num_upd)"
   ]
  },
  {
   "cell_type": "code",
   "execution_count": 81,
   "metadata": {},
   "outputs": [],
   "source": [
    "# Жуткие выбросы"
   ]
  },
  {
   "cell_type": "code",
   "execution_count": 82,
   "metadata": {},
   "outputs": [
    {
     "data": {
      "text/plain": [
       "[-202.5, 369.5]"
      ]
     },
     "execution_count": 82,
     "metadata": {},
     "output_type": "execute_result"
    }
   ],
   "source": [
    "outliers_iqr(df.reviews_num_upd)"
   ]
  },
  {
   "cell_type": "code",
   "execution_count": 83,
   "metadata": {},
   "outputs": [
    {
     "data": {
      "text/plain": [
       "4598"
      ]
     },
     "execution_count": 83,
     "metadata": {},
     "output_type": "execute_result"
    }
   ],
   "source": [
    "# Если отсеять данные, то потеряем 4,5 записей. Довольно много.\n",
    "len(df[df.reviews_num_upd > 367])"
   ]
  },
  {
   "cell_type": "code",
   "execution_count": 84,
   "metadata": {},
   "outputs": [],
   "source": [
    "# Попытка убрать выбросы ухудшила прогноз\n",
    "# df = df[df.reviews_num_upd < 367]\n",
    "# df.reviews_num_upd.hist()"
   ]
  },
  {
   "cell_type": "markdown",
   "metadata": {},
   "source": [
    "#### reviews — данные о двух отзывах, которые отображаются на сайте ресторана;"
   ]
  },
  {
   "cell_type": "code",
   "execution_count": 85,
   "metadata": {},
   "outputs": [
    {
     "data": {
      "text/plain": [
       "[[], []]                                                                                                                      6465\n",
       "[['Simple, clean and stylish', 'Nice'], ['07/01/2017', '09/10/2017']]                                                            1\n",
       "[['Lightning fast, but not good.'], ['05/02/2017']]                                                                              1\n",
       "[['Excellent japanese', 'Quality Japanese'], ['11/17/2017', '10/15/2017']]                                                       1\n",
       "[['A glimpse of Greek hospitality and cuisine', 'A Friendly Atmosphere'], ['09/13/2017', '10/20/2017']]                          1\n",
       "                                                                                                                              ... \n",
       "[['A memorable lunch', 'Back again for my favourite artichoke dish'], ['06/30/2017', '06/11/2017']]                              1\n",
       "[['Very bad attention', 'Lunch with girlfriends'], ['12/31/2017', '11/07/2017']]                                                 1\n",
       "[['Excellent service', 'Who Knew'], ['12/14/2017', '09/10/2017']]                                                                1\n",
       "[['Enjoy a drink next to the water every day...', 'Fabulous location for a coffee or beer'], ['01/30/2018', '01/17/2018']]       1\n",
       "[['A little gem!', 'Very good'], ['06/15/2017', '04/08/2017']]                                                                   1\n",
       "Name: reviews, Length: 33516, dtype: int64"
      ]
     },
     "execution_count": 85,
     "metadata": {},
     "output_type": "execute_result"
    }
   ],
   "source": [
    "df.reviews.value_counts()"
   ]
  },
  {
   "cell_type": "code",
   "execution_count": 86,
   "metadata": {},
   "outputs": [],
   "source": [
    "# 6465 ресторанов не имеют отзывов. Нас интересуют даты последних отзывов. Попробуем обновить данные с сайта."
   ]
  },
  {
   "cell_type": "code",
   "execution_count": 87,
   "metadata": {},
   "outputs": [],
   "source": [
    "# Сформируем новый признак из свежих данных"
   ]
  },
  {
   "cell_type": "code",
   "execution_count": 88,
   "metadata": {},
   "outputs": [],
   "source": [
    "review_date_tmpl = re.compile('title\\=\\\"([\\w|\\s\\,\\d]+)\\\"')"
   ]
  },
  {
   "cell_type": "code",
   "execution_count": 89,
   "metadata": {},
   "outputs": [],
   "source": [
    "def date_convert(date):\n",
    "    \"\"\" Функция конвертирует строку в datetime\"\"\"\n",
    "    return datetime.strptime(date, '%B %d, %Y')"
   ]
  },
  {
   "cell_type": "code",
   "execution_count": 90,
   "metadata": {},
   "outputs": [],
   "source": [
    "def review_last(id_ta):\n",
    "    \"\"\" Функция парсит дату последнего отзыва из данных с сайта \"\"\"\n",
    "    if id_ta in raw_data:\n",
    "        match = re.findall(review_date_tmpl, raw_data[id_ta]['data']['review_date'])\n",
    "        if len(match) > 0:\n",
    "            return date_convert(match[0])\n",
    "    return None"
   ]
  },
  {
   "cell_type": "code",
   "execution_count": 91,
   "metadata": {},
   "outputs": [],
   "source": [
    "# Полный upd Фиксируем дату последнего отзыва в формате datetime для удобства расчётов\n",
    "df['review_date_last'] = df.apply(lambda x: review_last(x['id_ta']), 1)"
   ]
  },
  {
   "cell_type": "code",
   "execution_count": 92,
   "metadata": {},
   "outputs": [
    {
     "data": {
      "text/plain": [
       "<AxesSubplot:>"
      ]
     },
     "execution_count": 92,
     "metadata": {},
     "output_type": "execute_result"
    },
    {
     "data": {
      "image/png": "[encoded data removed]",
      "text/plain": [
       "<Figure size 432x288 with 1 Axes>"
      ]
     },
     "metadata": {
      "needs_background": "light"
     },
     "output_type": "display_data"
    }
   ],
   "source": [
    "df.review_date_last.hist(bins=100)"
   ]
  },
  {
   "cell_type": "code",
   "execution_count": 93,
   "metadata": {},
   "outputs": [
    {
     "data": {
      "text/plain": [
       "Timestamp('2004-04-21 00:00:00')"
      ]
     },
     "execution_count": 93,
     "metadata": {},
     "output_type": "execute_result"
    }
   ],
   "source": [
    "df.review_date_last.min()"
   ]
  },
  {
   "cell_type": "code",
   "execution_count": 94,
   "metadata": {},
   "outputs": [],
   "source": [
    "# Много ресторанов, без свежих отзывов"
   ]
  },
  {
   "cell_type": "code",
   "execution_count": 95,
   "metadata": {},
   "outputs": [],
   "source": [
    "# Попытка убрать выбросы ухудшила прогноз\n",
    "# Возможно стоит отфильтровать слишком старые\n",
    "# df = df[df.review_date_last > datetime(2011, 6, 1)]\n",
    "# df.review_date_last.hist(bins=100)"
   ]
  },
  {
   "cell_type": "code",
   "execution_count": 96,
   "metadata": {},
   "outputs": [],
   "source": [
    "# Провал в 2020 году, возможно вызван ковидом"
   ]
  },
  {
   "cell_type": "markdown",
   "metadata": {},
   "source": [
    "Разница между двумя отзывами"
   ]
  },
  {
   "cell_type": "code",
   "execution_count": 97,
   "metadata": {},
   "outputs": [],
   "source": [
    "def reviews_diff(id_ta):\n",
    "    \"\"\" Функция возвращает колчество дней между двумя последними отзывами \"\"\"\n",
    "    if id_ta in raw_data:\n",
    "        match = re.findall(review_date_tmpl, raw_data[id_ta]['data']['review_date'])\n",
    "        if len(match) > 1:\n",
    "            delta = date_convert(match[0]) - date_convert(match[1])\n",
    "            return delta.days\n",
    "    return None"
   ]
  },
  {
   "cell_type": "code",
   "execution_count": 98,
   "metadata": {},
   "outputs": [],
   "source": [
    "# Фиксируем разницу в днях между последними отзывами\n",
    "df['reviews_date_diff'] = df.apply(lambda x: reviews_diff(x['id_ta']), 1)"
   ]
  },
  {
   "cell_type": "code",
   "execution_count": 99,
   "metadata": {},
   "outputs": [],
   "source": [
    "# Пропуски заполняем меданой"
   ]
  },
  {
   "cell_type": "code",
   "execution_count": 100,
   "metadata": {},
   "outputs": [],
   "source": [
    "reviews_delta_median = df.reviews_date_diff.median()"
   ]
  },
  {
   "cell_type": "code",
   "execution_count": 101,
   "metadata": {},
   "outputs": [],
   "source": [
    "df['reviews_date_diff'] = df['reviews_date_diff'].fillna(reviews_delta_median)"
   ]
  },
  {
   "cell_type": "code",
   "execution_count": 102,
   "metadata": {},
   "outputs": [
    {
     "data": {
      "text/plain": [
       "<AxesSubplot:>"
      ]
     },
     "execution_count": 102,
     "metadata": {},
     "output_type": "execute_result"
    },
    {
     "data": {
      "image/png": "[encoded data removed]",
      "text/plain": [
       "<Figure size 432x288 with 1 Axes>"
      ]
     },
     "metadata": {
      "needs_background": "light"
     },
     "output_type": "display_data"
    }
   ],
   "source": [
    "df.reviews_date_diff.hist(bins=100)"
   ]
  },
  {
   "cell_type": "code",
   "execution_count": 103,
   "metadata": {},
   "outputs": [
    {
     "data": {
      "text/plain": [
       "[-237.5, 518.5]"
      ]
     },
     "execution_count": 103,
     "metadata": {},
     "output_type": "execute_result"
    }
   ],
   "source": [
    "outliers_iqr(df.reviews_date_diff)"
   ]
  },
  {
   "cell_type": "code",
   "execution_count": 104,
   "metadata": {},
   "outputs": [],
   "source": [
    "df = df[df.reviews_date_diff < 651]"
   ]
  },
  {
   "cell_type": "code",
   "execution_count": 105,
   "metadata": {},
   "outputs": [
    {
     "data": {
      "text/plain": [
       "<AxesSubplot:>"
      ]
     },
     "execution_count": 105,
     "metadata": {},
     "output_type": "execute_result"
    },
    {
     "data": {
      "image/png": "[encoded data removed]",
      "text/plain": [
       "<Figure size 432x288 with 1 Axes>"
      ]
     },
     "metadata": {
      "needs_background": "light"
     },
     "output_type": "display_data"
    }
   ],
   "source": [
    "df.reviews_date_diff.hist()"
   ]
  },
  {
   "cell_type": "code",
   "execution_count": 106,
   "metadata": {},
   "outputs": [],
   "source": [
    "today = datetime(2020, 10, 16)"
   ]
  },
  {
   "cell_type": "code",
   "execution_count": 107,
   "metadata": {},
   "outputs": [],
   "source": [
    "def review_diff_now(date_review):\n",
    "    \"\"\" Возвращает разницу последнего отзыва с настоящим временем, в днях \"\"\"\n",
    "    delta = today - date_review\n",
    "    return delta.days"
   ]
  },
  {
   "cell_type": "code",
   "execution_count": 108,
   "metadata": {},
   "outputs": [],
   "source": [
    "df['reviews_last_diff'] = df.apply(lambda x: review_diff_now(x['review_date_last']), 1)"
   ]
  },
  {
   "cell_type": "code",
   "execution_count": 109,
   "metadata": {},
   "outputs": [],
   "source": [
    "df.reviews_last_diff = df.reviews_last_diff.fillna(df.reviews_last_diff.median())"
   ]
  },
  {
   "cell_type": "code",
   "execution_count": 110,
   "metadata": {},
   "outputs": [
    {
     "data": {
      "text/plain": [
       "<AxesSubplot:>"
      ]
     },
     "execution_count": 110,
     "metadata": {},
     "output_type": "execute_result"
    },
    {
     "data": {
      "image/png": "[encoded data removed]",
      "text/plain": [
       "<Figure size 432x288 with 1 Axes>"
      ]
     },
     "metadata": {
      "needs_background": "light"
     },
     "output_type": "display_data"
    }
   ],
   "source": [
    "df.reviews_last_diff.hist(bins=100)"
   ]
  },
  {
   "cell_type": "code",
   "execution_count": null,
   "metadata": {},
   "outputs": [],
   "source": []
  },
  {
   "cell_type": "code",
   "execution_count": null,
   "metadata": {},
   "outputs": [],
   "source": []
  },
  {
   "cell_type": "markdown",
   "metadata": {},
   "source": [
    "#### Ближайший важный объект"
   ]
  },
  {
   "cell_type": "code",
   "execution_count": 111,
   "metadata": {},
   "outputs": [],
   "source": [
    "# На сайте есть информация о расстоянии до ближайшего важного объекта (здание, метро...). "
   ]
  },
  {
   "cell_type": "code",
   "execution_count": 112,
   "metadata": {},
   "outputs": [],
   "source": [
    "near_dist_tmpl = re.compile('div\\W\\Wb\\W([\\d\\.\\s]*)')"
   ]
  },
  {
   "cell_type": "code",
   "execution_count": 113,
   "metadata": {},
   "outputs": [],
   "source": [
    "def near_dist(id_ta):\n",
    "    if id_ta in raw_data:\n",
    "        match = re.search(near_dist_tmpl, raw_data[id_ta]['data']['data_google'])\n",
    "        if match:\n",
    "            return float(match.group(1))\n",
    "    return None"
   ]
  },
  {
   "cell_type": "code",
   "execution_count": 114,
   "metadata": {},
   "outputs": [],
   "source": [
    "df['near_dist'] = df.apply(lambda x: near_dist(x['id_ta']), 1)"
   ]
  },
  {
   "cell_type": "code",
   "execution_count": 115,
   "metadata": {},
   "outputs": [],
   "source": [
    "# Отсутствующие значения заполняем  медианой"
   ]
  },
  {
   "cell_type": "code",
   "execution_count": 116,
   "metadata": {},
   "outputs": [],
   "source": [
    "near_dist_median = df.near_dist.median()"
   ]
  },
  {
   "cell_type": "code",
   "execution_count": 117,
   "metadata": {},
   "outputs": [],
   "source": [
    "df.near_dist = df.near_dist.fillna(near_dist_median)"
   ]
  },
  {
   "cell_type": "code",
   "execution_count": 118,
   "metadata": {},
   "outputs": [
    {
     "data": {
      "text/plain": [
       "<AxesSubplot:>"
      ]
     },
     "execution_count": 118,
     "metadata": {},
     "output_type": "execute_result"
    },
    {
     "data": {
      "image/png": "[encoded data removed]",
      "text/plain": [
       "<Figure size 432x288 with 1 Axes>"
      ]
     },
     "metadata": {
      "needs_background": "light"
     },
     "output_type": "display_data"
    }
   ],
   "source": [
    "df.near_dist.hist(bins=30)"
   ]
  },
  {
   "cell_type": "markdown",
   "metadata": {},
   "source": [
    "#### Все рестораны города"
   ]
  },
  {
   "cell_type": "code",
   "execution_count": 119,
   "metadata": {},
   "outputs": [],
   "source": [
    "# С сайта можем получить дополнительный важный признак: количество ресторанов в городе"
   ]
  },
  {
   "cell_type": "code",
   "execution_count": 120,
   "metadata": {},
   "outputs": [],
   "source": [
    "near_dist_tmpl = re.compile('of\\s([\\d\\,]+)\\sRestaurants')"
   ]
  },
  {
   "cell_type": "code",
   "execution_count": 121,
   "metadata": {},
   "outputs": [],
   "source": [
    "def all_rest(id_ta):\n",
    "    \"\"\" Возвращает количество ресторанов в городе\"\"\"\n",
    "    if id_ta in raw_data:\n",
    "        match = re.search(near_dist_tmpl, raw_data[id_ta]['data']['all_rest'])\n",
    "        if match:\n",
    "            return int(match.group(1).replace(',', ''))\n",
    "    return None"
   ]
  },
  {
   "cell_type": "code",
   "execution_count": 122,
   "metadata": {},
   "outputs": [],
   "source": [
    "df['all_rest'] = df.apply(lambda x: all_rest(x['id_ta']), 1)"
   ]
  },
  {
   "cell_type": "code",
   "execution_count": 123,
   "metadata": {},
   "outputs": [],
   "source": [
    "# Пропуски заполняем медианой"
   ]
  },
  {
   "cell_type": "code",
   "execution_count": 124,
   "metadata": {},
   "outputs": [],
   "source": [
    "all_rest_median = df.all_rest.median()"
   ]
  },
  {
   "cell_type": "code",
   "execution_count": 125,
   "metadata": {},
   "outputs": [],
   "source": [
    "df.all_rest = df.all_rest.fillna(all_rest_median)"
   ]
  },
  {
   "cell_type": "code",
   "execution_count": 126,
   "metadata": {},
   "outputs": [
    {
     "data": {
      "text/plain": [
       "<AxesSubplot:>"
      ]
     },
     "execution_count": 126,
     "metadata": {},
     "output_type": "execute_result"
    },
    {
     "data": {
      "image/png": "[encoded data removed]",
      "text/plain": [
       "<Figure size 432x288 with 1 Axes>"
      ]
     },
     "metadata": {
      "needs_background": "light"
     },
     "output_type": "display_data"
    }
   ],
   "source": [
    "df.all_rest.hist()"
   ]
  },
  {
   "cell_type": "code",
   "execution_count": 127,
   "metadata": {},
   "outputs": [],
   "source": [
    "df[\"rest_population\"] = df.all_rest / df.population"
   ]
  },
  {
   "cell_type": "code",
   "execution_count": 128,
   "metadata": {},
   "outputs": [
    {
     "data": {
      "text/html": [
       "<div>\n",
       "<style scoped>\n",
       "    .dataframe tbody tr th:only-of-type {\n",
       "        vertical-align: middle;\n",
       "    }\n",
       "\n",
       "    .dataframe tbody tr th {\n",
       "        vertical-align: top;\n",
       "    }\n",
       "\n",
       "    .dataframe thead th {\n",
       "        text-align: right;\n",
       "    }\n",
       "</style>\n",
       "<table border=\"1\" class=\"dataframe\">\n",
       "  <thead>\n",
       "    <tr style=\"text-align: right;\">\n",
       "      <th></th>\n",
       "      <th>ranking</th>\n",
       "      <th>rating</th>\n",
       "      <th>number_of_reviews</th>\n",
       "      <th>population</th>\n",
       "      <th>capital</th>\n",
       "      <th>cuisine_num</th>\n",
       "      <th>price_range_upd</th>\n",
       "      <th>reviews_num_upd</th>\n",
       "      <th>reviews_date_diff</th>\n",
       "      <th>reviews_last_diff</th>\n",
       "      <th>near_dist</th>\n",
       "      <th>all_rest</th>\n",
       "      <th>rest_population</th>\n",
       "    </tr>\n",
       "  </thead>\n",
       "  <tbody>\n",
       "    <tr>\n",
       "      <th>ranking</th>\n",
       "      <td>1.000000</td>\n",
       "      <td>-0.370531</td>\n",
       "      <td>-0.225062</td>\n",
       "      <td>0.557330</td>\n",
       "      <td>0.221780</td>\n",
       "      <td>-0.329220</td>\n",
       "      <td>-0.066410</td>\n",
       "      <td>-0.257023</td>\n",
       "      <td>0.068044</td>\n",
       "      <td>0.182905</td>\n",
       "      <td>0.044762</td>\n",
       "      <td>0.586972</td>\n",
       "      <td>-0.082366</td>\n",
       "    </tr>\n",
       "    <tr>\n",
       "      <th>rating</th>\n",
       "      <td>-0.370531</td>\n",
       "      <td>1.000000</td>\n",
       "      <td>0.029772</td>\n",
       "      <td>-0.037765</td>\n",
       "      <td>0.014934</td>\n",
       "      <td>0.127112</td>\n",
       "      <td>-0.016079</td>\n",
       "      <td>0.037401</td>\n",
       "      <td>-0.029496</td>\n",
       "      <td>-0.079456</td>\n",
       "      <td>-0.010277</td>\n",
       "      <td>-0.036835</td>\n",
       "      <td>0.036918</td>\n",
       "    </tr>\n",
       "    <tr>\n",
       "      <th>number_of_reviews</th>\n",
       "      <td>-0.225062</td>\n",
       "      <td>0.029772</td>\n",
       "      <td>1.000000</td>\n",
       "      <td>-0.008988</td>\n",
       "      <td>0.000187</td>\n",
       "      <td>0.384373</td>\n",
       "      <td>0.154375</td>\n",
       "      <td>0.974862</td>\n",
       "      <td>-0.170711</td>\n",
       "      <td>-0.239368</td>\n",
       "      <td>-0.126890</td>\n",
       "      <td>0.049773</td>\n",
       "      <td>-0.013044</td>\n",
       "    </tr>\n",
       "    <tr>\n",
       "      <th>population</th>\n",
       "      <td>0.557330</td>\n",
       "      <td>-0.037765</td>\n",
       "      <td>-0.008988</td>\n",
       "      <td>1.000000</td>\n",
       "      <td>0.411747</td>\n",
       "      <td>0.013802</td>\n",
       "      <td>0.009759</td>\n",
       "      <td>-0.010354</td>\n",
       "      <td>-0.083996</td>\n",
       "      <td>-0.097380</td>\n",
       "      <td>0.124979</td>\n",
       "      <td>0.627411</td>\n",
       "      <td>-0.103359</td>\n",
       "    </tr>\n",
       "    <tr>\n",
       "      <th>capital</th>\n",
       "      <td>0.221780</td>\n",
       "      <td>0.014934</td>\n",
       "      <td>0.000187</td>\n",
       "      <td>0.411747</td>\n",
       "      <td>1.000000</td>\n",
       "      <td>0.011864</td>\n",
       "      <td>0.022281</td>\n",
       "      <td>-0.003573</td>\n",
       "      <td>-0.033411</td>\n",
       "      <td>-0.040761</td>\n",
       "      <td>-0.002465</td>\n",
       "      <td>0.292104</td>\n",
       "      <td>0.064410</td>\n",
       "    </tr>\n",
       "    <tr>\n",
       "      <th>cuisine_num</th>\n",
       "      <td>-0.329220</td>\n",
       "      <td>0.127112</td>\n",
       "      <td>0.384373</td>\n",
       "      <td>0.013802</td>\n",
       "      <td>0.011864</td>\n",
       "      <td>1.000000</td>\n",
       "      <td>0.097206</td>\n",
       "      <td>0.446553</td>\n",
       "      <td>-0.202968</td>\n",
       "      <td>-0.380131</td>\n",
       "      <td>-0.102950</td>\n",
       "      <td>-0.022356</td>\n",
       "      <td>-0.008294</td>\n",
       "    </tr>\n",
       "    <tr>\n",
       "      <th>price_range_upd</th>\n",
       "      <td>-0.066410</td>\n",
       "      <td>-0.016079</td>\n",
       "      <td>0.154375</td>\n",
       "      <td>0.009759</td>\n",
       "      <td>0.022281</td>\n",
       "      <td>0.097206</td>\n",
       "      <td>1.000000</td>\n",
       "      <td>0.158144</td>\n",
       "      <td>-0.074595</td>\n",
       "      <td>-0.013421</td>\n",
       "      <td>-0.010003</td>\n",
       "      <td>0.015246</td>\n",
       "      <td>-0.018383</td>\n",
       "    </tr>\n",
       "    <tr>\n",
       "      <th>reviews_num_upd</th>\n",
       "      <td>-0.257023</td>\n",
       "      <td>0.037401</td>\n",
       "      <td>0.974862</td>\n",
       "      <td>-0.010354</td>\n",
       "      <td>-0.003573</td>\n",
       "      <td>0.446553</td>\n",
       "      <td>0.158144</td>\n",
       "      <td>1.000000</td>\n",
       "      <td>-0.197429</td>\n",
       "      <td>-0.294172</td>\n",
       "      <td>-0.141129</td>\n",
       "      <td>0.055456</td>\n",
       "      <td>-0.011234</td>\n",
       "    </tr>\n",
       "    <tr>\n",
       "      <th>reviews_date_diff</th>\n",
       "      <td>0.068044</td>\n",
       "      <td>-0.029496</td>\n",
       "      <td>-0.170711</td>\n",
       "      <td>-0.083996</td>\n",
       "      <td>-0.033411</td>\n",
       "      <td>-0.202968</td>\n",
       "      <td>-0.074595</td>\n",
       "      <td>-0.197429</td>\n",
       "      <td>1.000000</td>\n",
       "      <td>0.084065</td>\n",
       "      <td>0.077355</td>\n",
       "      <td>-0.046433</td>\n",
       "      <td>-0.008626</td>\n",
       "    </tr>\n",
       "    <tr>\n",
       "      <th>reviews_last_diff</th>\n",
       "      <td>0.182905</td>\n",
       "      <td>-0.079456</td>\n",
       "      <td>-0.239368</td>\n",
       "      <td>-0.097380</td>\n",
       "      <td>-0.040761</td>\n",
       "      <td>-0.380131</td>\n",
       "      <td>-0.013421</td>\n",
       "      <td>-0.294172</td>\n",
       "      <td>0.084065</td>\n",
       "      <td>1.000000</td>\n",
       "      <td>0.078960</td>\n",
       "      <td>-0.035531</td>\n",
       "      <td>-0.010703</td>\n",
       "    </tr>\n",
       "    <tr>\n",
       "      <th>near_dist</th>\n",
       "      <td>0.044762</td>\n",
       "      <td>-0.010277</td>\n",
       "      <td>-0.126890</td>\n",
       "      <td>0.124979</td>\n",
       "      <td>-0.002465</td>\n",
       "      <td>-0.102950</td>\n",
       "      <td>-0.010003</td>\n",
       "      <td>-0.141129</td>\n",
       "      <td>0.077355</td>\n",
       "      <td>0.078960</td>\n",
       "      <td>1.000000</td>\n",
       "      <td>-0.026467</td>\n",
       "      <td>0.004037</td>\n",
       "    </tr>\n",
       "    <tr>\n",
       "      <th>all_rest</th>\n",
       "      <td>0.586972</td>\n",
       "      <td>-0.036835</td>\n",
       "      <td>0.049773</td>\n",
       "      <td>0.627411</td>\n",
       "      <td>0.292104</td>\n",
       "      <td>-0.022356</td>\n",
       "      <td>0.015246</td>\n",
       "      <td>0.055456</td>\n",
       "      <td>-0.046433</td>\n",
       "      <td>-0.035531</td>\n",
       "      <td>-0.026467</td>\n",
       "      <td>1.000000</td>\n",
       "      <td>-0.090197</td>\n",
       "    </tr>\n",
       "    <tr>\n",
       "      <th>rest_population</th>\n",
       "      <td>-0.082366</td>\n",
       "      <td>0.036918</td>\n",
       "      <td>-0.013044</td>\n",
       "      <td>-0.103359</td>\n",
       "      <td>0.064410</td>\n",
       "      <td>-0.008294</td>\n",
       "      <td>-0.018383</td>\n",
       "      <td>-0.011234</td>\n",
       "      <td>-0.008626</td>\n",
       "      <td>-0.010703</td>\n",
       "      <td>0.004037</td>\n",
       "      <td>-0.090197</td>\n",
       "      <td>1.000000</td>\n",
       "    </tr>\n",
       "  </tbody>\n",
       "</table>\n",
       "</div>"
      ],
      "text/plain": [
       "                    ranking    rating  number_of_reviews  population  \\\n",
       "ranking            1.000000 -0.370531          -0.225062    0.557330   \n",
       "rating            -0.370531  1.000000           0.029772   -0.037765   \n",
       "number_of_reviews -0.225062  0.029772           1.000000   -0.008988   \n",
       "population         0.557330 -0.037765          -0.008988    1.000000   \n",
       "capital            0.221780  0.014934           0.000187    0.411747   \n",
       "cuisine_num       -0.329220  0.127112           0.384373    0.013802   \n",
       "price_range_upd   -0.066410 -0.016079           0.154375    0.009759   \n",
       "reviews_num_upd   -0.257023  0.037401           0.974862   -0.010354   \n",
       "reviews_date_diff  0.068044 -0.029496          -0.170711   -0.083996   \n",
       "reviews_last_diff  0.182905 -0.079456          -0.239368   -0.097380   \n",
       "near_dist          0.044762 -0.010277          -0.126890    0.124979   \n",
       "all_rest           0.586972 -0.036835           0.049773    0.627411   \n",
       "rest_population   -0.082366  0.036918          -0.013044   -0.103359   \n",
       "\n",
       "                    capital  cuisine_num  price_range_upd  reviews_num_upd  \\\n",
       "ranking            0.221780    -0.329220        -0.066410        -0.257023   \n",
       "rating             0.014934     0.127112        -0.016079         0.037401   \n",
       "number_of_reviews  0.000187     0.384373         0.154375         0.974862   \n",
       "population         0.411747     0.013802         0.009759        -0.010354   \n",
       "capital            1.000000     0.011864         0.022281        -0.003573   \n",
       "cuisine_num        0.011864     1.000000         0.097206         0.446553   \n",
       "price_range_upd    0.022281     0.097206         1.000000         0.158144   \n",
       "reviews_num_upd   -0.003573     0.446553         0.158144         1.000000   \n",
       "reviews_date_diff -0.033411    -0.202968        -0.074595        -0.197429   \n",
       "reviews_last_diff -0.040761    -0.380131        -0.013421        -0.294172   \n",
       "near_dist         -0.002465    -0.102950        -0.010003        -0.141129   \n",
       "all_rest           0.292104    -0.022356         0.015246         0.055456   \n",
       "rest_population    0.064410    -0.008294        -0.018383        -0.011234   \n",
       "\n",
       "                   reviews_date_diff  reviews_last_diff  near_dist  all_rest  \\\n",
       "ranking                     0.068044           0.182905   0.044762  0.586972   \n",
       "rating                     -0.029496          -0.079456  -0.010277 -0.036835   \n",
       "number_of_reviews          -0.170711          -0.239368  -0.126890  0.049773   \n",
       "population                 -0.083996          -0.097380   0.124979  0.627411   \n",
       "capital                    -0.033411          -0.040761  -0.002465  0.292104   \n",
       "cuisine_num                -0.202968          -0.380131  -0.102950 -0.022356   \n",
       "price_range_upd            -0.074595          -0.013421  -0.010003  0.015246   \n",
       "reviews_num_upd            -0.197429          -0.294172  -0.141129  0.055456   \n",
       "reviews_date_diff           1.000000           0.084065   0.077355 -0.046433   \n",
       "reviews_last_diff           0.084065           1.000000   0.078960 -0.035531   \n",
       "near_dist                   0.077355           0.078960   1.000000 -0.026467   \n",
       "all_rest                   -0.046433          -0.035531  -0.026467  1.000000   \n",
       "rest_population            -0.008626          -0.010703   0.004037 -0.090197   \n",
       "\n",
       "                   rest_population  \n",
       "ranking                  -0.082366  \n",
       "rating                    0.036918  \n",
       "number_of_reviews        -0.013044  \n",
       "population               -0.103359  \n",
       "capital                   0.064410  \n",
       "cuisine_num              -0.008294  \n",
       "price_range_upd          -0.018383  \n",
       "reviews_num_upd          -0.011234  \n",
       "reviews_date_diff        -0.008626  \n",
       "reviews_last_diff        -0.010703  \n",
       "near_dist                 0.004037  \n",
       "all_rest                 -0.090197  \n",
       "rest_population           1.000000  "
      ]
     },
     "execution_count": 128,
     "metadata": {},
     "output_type": "execute_result"
    }
   ],
   "source": [
    "# Мало признаков коррелирующие с целевой переменной. Но многие, лучше коррелируют с ranking. Надо добиваться лучшего результата.\n",
    "df.corr()"
   ]
  },
  {
   "cell_type": "code",
   "execution_count": 129,
   "metadata": {},
   "outputs": [],
   "source": [
    "# Сформируем dummy признаки по странам\n",
    "data_with_dummies_cntr = pd.get_dummies(df, columns=['country'], dtype=float)"
   ]
  },
  {
   "cell_type": "code",
   "execution_count": 130,
   "metadata": {},
   "outputs": [],
   "source": [
    "# Попробуем сократить число значений в городах."
   ]
  },
  {
   "cell_type": "code",
   "execution_count": 131,
   "metadata": {},
   "outputs": [],
   "source": [
    "# cities_freq = list(data_with_dummies_cntr.city.value_counts())\n",
    "# top_cities_count = int(np.percentile(cities_freq, 90))\n",
    "# top_cities_count"
   ]
  },
  {
   "cell_type": "code",
   "execution_count": 132,
   "metadata": {},
   "outputs": [],
   "source": [
    "all_cities = data_with_dummies_cntr.city.value_counts().index"
   ]
  },
  {
   "cell_type": "code",
   "execution_count": 133,
   "metadata": {},
   "outputs": [],
   "source": [
    "# Возьмем 28, остальные в Other (параметр подобран экспериментально)\n",
    "top_cities = list(all_cities)[:28]"
   ]
  },
  {
   "cell_type": "code",
   "execution_count": 134,
   "metadata": {},
   "outputs": [],
   "source": [
    "# Список на выбывание\n",
    "cities_to_throw_away = list(set(all_cities)-set(top_cities))"
   ]
  },
  {
   "cell_type": "code",
   "execution_count": 135,
   "metadata": {},
   "outputs": [],
   "source": [
    "# Сокращаем города\n",
    "data_with_dummies_cntr.loc[data_with_dummies_cntr['city'].isin(cities_to_throw_away), 'city'] = 'Other'"
   ]
  },
  {
   "cell_type": "code",
   "execution_count": 136,
   "metadata": {},
   "outputs": [
    {
     "data": {
      "text/plain": [
       "29"
      ]
     },
     "execution_count": 136,
     "metadata": {},
     "output_type": "execute_result"
    }
   ],
   "source": [
    "# Осталось 28 городо + Other\n",
    "len(data_with_dummies_cntr.city.value_counts())"
   ]
  },
  {
   "cell_type": "code",
   "execution_count": 137,
   "metadata": {},
   "outputs": [],
   "source": [
    "# Создаем dummy переменные\n",
    "data_with_dummies = pd.get_dummies(data_with_dummies_cntr, columns=['city'], dtype=float)"
   ]
  },
  {
   "cell_type": "code",
   "execution_count": 138,
   "metadata": {},
   "outputs": [],
   "source": [
    "data_with_dummies = data_with_dummies.drop(['restaurant_id', 'cuisine_style', 'number_of_reviews', 'price_range', 'reviews', 'url_ta', \n",
    "              'id_ta', 'cuisine_list', 'review_date_last'], axis=1)"
   ]
  },
  {
   "cell_type": "code",
   "execution_count": null,
   "metadata": {},
   "outputs": [],
   "source": []
  },
  {
   "cell_type": "code",
   "execution_count": 139,
   "metadata": {},
   "outputs": [],
   "source": [
    "# С этим признаком, результат хуже. Пока закомментируем.\n",
    "# data_with_dummies = data_with_dummies.drop('population', axis=1)"
   ]
  },
  {
   "cell_type": "code",
   "execution_count": null,
   "metadata": {},
   "outputs": [],
   "source": []
  },
  {
   "cell_type": "code",
   "execution_count": 140,
   "metadata": {},
   "outputs": [],
   "source": [
    "# Нормализация признаков"
   ]
  },
  {
   "cell_type": "code",
   "execution_count": 141,
   "metadata": {},
   "outputs": [],
   "source": [
    "from sklearn.preprocessing import StandardScaler\n",
    "scaler = StandardScaler()"
   ]
  },
  {
   "cell_type": "code",
   "execution_count": 142,
   "metadata": {},
   "outputs": [],
   "source": [
    "for col in data_with_dummies.columns:\n",
    "    if col not in ['rating']:\n",
    "        data_with_dummies[col] = scaler.fit_transform(pd.DataFrame(data_with_dummies[col]))"
   ]
  },
  {
   "cell_type": "code",
   "execution_count": null,
   "metadata": {},
   "outputs": [],
   "source": []
  },
  {
   "cell_type": "code",
   "execution_count": 143,
   "metadata": {},
   "outputs": [
    {
     "data": {
      "text/plain": [
       "<AxesSubplot:>"
      ]
     },
     "execution_count": 143,
     "metadata": {},
     "output_type": "execute_result"
    },
    {
     "data": {
      "image/png": "[encoded data removed]",
      "text/plain": [
       "<Figure size 432x288 with 2 Axes>"
      ]
     },
     "metadata": {
      "needs_background": "light"
     },
     "output_type": "display_data"
    }
   ],
   "source": [
    "sns.heatmap(data_with_dummies.corr(method=\"pearson\"))"
   ]
  },
  {
   "cell_type": "code",
   "execution_count": 144,
   "metadata": {},
   "outputs": [],
   "source": [
    "# Поиск выбросов с помощью DBSCAN (пока в тесте)"
   ]
  },
  {
   "cell_type": "markdown",
   "metadata": {},
   "source": [
    "from sklearn.cluster import DBSCAN\n",
    "from sklearn.preprocessing import MinMaxScaler"
   ]
  },
  {
   "cell_type": "markdown",
   "metadata": {},
   "source": [
    "db = DBSCAN(eps=0.5, min_samples=10).fit(np.reshape(np.array(df.reviews_last_diff), (-1, 1)))\n",
    "print(len(np.where(db.labels_ == -1)[0]))"
   ]
  },
  {
   "cell_type": "markdown",
   "metadata": {},
   "source": [
    "np.where(db.labels_ == -1)[0]"
   ]
  },
  {
   "cell_type": "markdown",
   "metadata": {},
   "source": [
    "## Разбиваем датафрейм на части, необходимые для обучения и тестирования модели"
   ]
  },
  {
   "cell_type": "code",
   "execution_count": 145,
   "metadata": {},
   "outputs": [],
   "source": [
    "X = data_with_dummies.drop(['rating'], axis = 1)\n",
    "y = data_with_dummies['rating']"
   ]
  },
  {
   "cell_type": "code",
   "execution_count": 146,
   "metadata": {},
   "outputs": [],
   "source": [
    "# Загружаем специальный инструмент для разбивки:\n",
    "from sklearn.model_selection import train_test_split"
   ]
  },
  {
   "cell_type": "code",
   "execution_count": 147,
   "metadata": {},
   "outputs": [],
   "source": [
    "# Наборы данных с меткой \"train\" будут использоваться для обучения модели, \"test\" - для тестирования.\n",
    "# Для тестирования мы будем использовать 25% от исходного датасета.\n",
    "X_train, X_test, y_train, y_test = train_test_split(X, y, test_size=0.25)"
   ]
  },
  {
   "cell_type": "markdown",
   "metadata": {},
   "source": [
    "# Создаём, обучаем и тестируем модель"
   ]
  },
  {
   "cell_type": "code",
   "execution_count": 148,
   "metadata": {},
   "outputs": [],
   "source": [
    "# Импортируем необходимые библиотеки:\n",
    "from sklearn.ensemble import RandomForestRegressor # инструмент для создания и обучения модели\n",
    "from sklearn import metrics # инструменты для оценки точности модели"
   ]
  },
  {
   "cell_type": "code",
   "execution_count": 149,
   "metadata": {},
   "outputs": [],
   "source": [
    "# Создаём модель\n",
    "regr = RandomForestRegressor(n_estimators=100)\n",
    "\n",
    "# Обучаем модель на тестовом наборе данных\n",
    "regr.fit(X_train, y_train)\n",
    "\n",
    "# Используем обученную модель для предсказания рейтинга ресторанов в тестовой выборке.\n",
    "# Предсказанные значения записываем в переменную y_pred\n",
    "y_pred = regr.predict(X_test)"
   ]
  },
  {
   "cell_type": "code",
   "execution_count": 150,
   "metadata": {},
   "outputs": [
    {
     "name": "stdout",
     "output_type": "stream",
     "text": [
      "MAE: 0.2284186746987952\n"
     ]
    }
   ],
   "source": [
    "# Сравниваем предсказанные значения (y_pred) с реальными (y_test), и смотрим насколько они в среднем отличаются\n",
    "# Метрика называется Mean Absolute Error (MAE) и показывает среднее отклонение предсказанных значений от фактических.\n",
    "print('MAE:', metrics.mean_absolute_error(y_test, y_pred))"
   ]
  },
  {
   "cell_type": "code",
   "execution_count": null,
   "metadata": {},
   "outputs": [],
   "source": []
  },
  {
   "cell_type": "code",
   "execution_count": 151,
   "metadata": {},
   "outputs": [],
   "source": [
    "import matplotlib as plt"
   ]
  },
  {
   "cell_type": "code",
   "execution_count": 152,
   "metadata": {},
   "outputs": [
    {
     "data": {
      "text/plain": [
       "<AxesSubplot:>"
      ]
     },
     "execution_count": 152,
     "metadata": {},
     "output_type": "execute_result"
    },
    {
     "data": {
      "image/png": "[encoded data removed]",
      "text/plain": [
       "<Figure size 720x576 with 1 Axes>"
      ]
     },
     "metadata": {
      "needs_background": "light"
     },
     "output_type": "display_data"
    }
   ],
   "source": [
    "# Проверим важные признаки данной модели\n",
    "plt.rcParams['figure.figsize'] = (10,8)\n",
    "feat_importances = pd.Series(regr.feature_importances_, index=X.columns)\n",
    "feat_importances.nlargest(15).plot(kind='barh')"
   ]
  },
  {
   "cell_type": "code",
   "execution_count": null,
   "metadata": {},
   "outputs": [],
   "source": []
  },
  {
   "cell_type": "markdown",
   "metadata": {},
   "source": [
    "### Координаты ресторана (можно определить удаленность от центра)"
   ]
  },
  {
   "cell_type": "code",
   "execution_count": 153,
   "metadata": {},
   "outputs": [],
   "source": [
    "# Не успел"
   ]
  },
  {
   "cell_type": "code",
   "execution_count": 154,
   "metadata": {},
   "outputs": [],
   "source": [
    "import base64"
   ]
  },
  {
   "cell_type": "code",
   "execution_count": 155,
   "metadata": {},
   "outputs": [
    {
     "name": "stdout",
     "output_type": "stream",
     "text": [
      "41.13378 -8.613067\n"
     ]
    }
   ],
   "source": [
    "near_dist_tmpl = re.compile('data-encoded-url=\"([\\w\\/\\d]*)\\\"')\n",
    "match = re.search(near_dist_tmpl, raw_data['d12503536']['data']['data_google'])\n",
    "if match:\n",
    "    encoded_url = match.group(1)\n",
    "    decoded_url = base64.b64decode(encoded_url)\n",
    "    new_match = re.findall('\\@([\\-\\d\\.]+),([\\-\\d\\.]+)_', str(decoded_url))\n",
    "    if len(new_match) > 0:\n",
    "        lat = new_match[0][0]\n",
    "        lon = new_match[0][1]\n",
    "        print(lat, lon)    "
   ]
  }
 ],
 "metadata": {
  "kernelspec": {
   "display_name": "Python 3",
   "language": "python",
   "name": "python3"
  },
  "language_info": {
   "codemirror_mode": {
    "name": "ipython",
    "version": 3
   },
   "file_extension": ".py",
   "mimetype": "text/x-python",
   "name": "python",
   "nbconvert_exporter": "python",
   "pygments_lexer": "ipython3",
   "version": "3.7.3"
  }
 },
 "nbformat": 4,
 "nbformat_minor": 4
}
